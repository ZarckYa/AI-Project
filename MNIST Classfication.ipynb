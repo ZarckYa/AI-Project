{
 "cells": [
  {
   "cell_type": "code",
   "execution_count": 1,
   "id": "132bcffb",
   "metadata": {},
   "outputs": [],
   "source": [
    "#Import the code libaries.\n",
    "import tensorflow as tf\n",
    "from tensorflow.keras import layers, datasets, Sequential, optimizers, utils\n",
    "import numpy as np\n",
    "import matplotlib.pyplot as plt"
   ]
  },
  {
   "cell_type": "code",
   "execution_count": 2,
   "id": "4368cb9d",
   "metadata": {},
   "outputs": [
    {
     "name": "stdout",
     "output_type": "stream",
     "text": [
      "The 0 train set label: 5\n",
      "The 0 test set label:  7\n",
      "The 1 train set label: 0\n",
      "The 1 test set label:  2\n",
      "The 2 train set label: 4\n",
      "The 2 test set label:  1\n",
      "The 3 train set label: 1\n",
      "The 3 test set label:  0\n",
      "The 4 train set label: 9\n",
      "The 4 test set label:  4\n",
      "The 5 train set label: 2\n",
      "The 5 test set label:  1\n",
      "The 6 train set label: 1\n",
      "The 6 test set label:  4\n",
      "The 7 train set label: 3\n",
      "The 7 test set label:  9\n",
      "The 8 train set label: 1\n",
      "The 8 test set label:  5\n",
      "The 9 train set label: 4\n",
      "The 9 test set label:  9\n",
      "Train figures sets shape: (60000, 28, 28, 1)\n",
      "Test figures sets shape: (10000, 28, 28, 1)\n",
      "Train labels sets shape: (60000,)\n",
      "Test labels sets shape: (10000,)\n",
      "The 0 train set label: [0. 0. 0. 0. 0. 1. 0. 0. 0. 0.]\n",
      "The 0 test set label:  [0. 0. 0. 0. 0. 0. 0. 1. 0. 0.]\n",
      "The 1 train set label: [1. 0. 0. 0. 0. 0. 0. 0. 0. 0.]\n",
      "The 1 test set label:  [0. 0. 1. 0. 0. 0. 0. 0. 0. 0.]\n",
      "The 2 train set label: [0. 0. 0. 0. 1. 0. 0. 0. 0. 0.]\n",
      "The 2 test set label:  [0. 1. 0. 0. 0. 0. 0. 0. 0. 0.]\n",
      "The 3 train set label: [0. 1. 0. 0. 0. 0. 0. 0. 0. 0.]\n",
      "The 3 test set label:  [1. 0. 0. 0. 0. 0. 0. 0. 0. 0.]\n",
      "The 4 train set label: [0. 0. 0. 0. 0. 0. 0. 0. 0. 1.]\n",
      "The 4 test set label:  [0. 0. 0. 0. 1. 0. 0. 0. 0. 0.]\n",
      "The 5 train set label: [0. 0. 1. 0. 0. 0. 0. 0. 0. 0.]\n",
      "The 5 test set label:  [0. 1. 0. 0. 0. 0. 0. 0. 0. 0.]\n",
      "The 6 train set label: [0. 1. 0. 0. 0. 0. 0. 0. 0. 0.]\n",
      "The 6 test set label:  [0. 0. 0. 0. 1. 0. 0. 0. 0. 0.]\n",
      "The 7 train set label: [0. 0. 0. 1. 0. 0. 0. 0. 0. 0.]\n",
      "The 7 test set label:  [0. 0. 0. 0. 0. 0. 0. 0. 0. 1.]\n",
      "The 8 train set label: [0. 1. 0. 0. 0. 0. 0. 0. 0. 0.]\n",
      "The 8 test set label:  [0. 0. 0. 0. 0. 1. 0. 0. 0. 0.]\n",
      "The 9 train set label: [0. 0. 0. 0. 1. 0. 0. 0. 0. 0.]\n",
      "The 9 test set label:  [0. 0. 0. 0. 0. 0. 0. 0. 0. 1.]\n"
     ]
    }
   ],
   "source": [
    "#Data preprocess.\n",
    "#Load MNIST data into Variables\n",
    "(x_train, y_train), (x_test, y_test) = datasets.mnist.load_data(\"MNIST_data\")\n",
    "for i in range(10):\n",
    "    print('The %d train set label:'%(i),y_train[i])\n",
    "    print('The %d test set label: '%(i),y_test[i])\n",
    "\n",
    "#Reshape the data into [-1,28,28,1] form, and Normalize the data\n",
    "x_train = x_train.reshape(-1,28,28,1).astype('float32')/255\n",
    "x_test = x_test.reshape(-1,28,28,1).astype('float32')/255\n",
    "print(\"Train figures sets shape:\", x_train.shape)\n",
    "print(\"Test figures sets shape:\", x_test.shape)\n",
    "print(\"Train labels sets shape:\", y_train.shape)\n",
    "print(\"Test labels sets shape:\", y_test.shape)\n",
    "\n",
    "#To convert the label data into a matricx.\n",
    "#This step can transfer 0 to [1,0,0,0,0,0,0,0,0,0]. like this format.\n",
    "y_train = utils.to_categorical(y_train)\n",
    "y_test = utils.to_categorical(y_test)\n",
    "for i in range(10):\n",
    "    print('The %d train set label:'%(i),y_train[i])\n",
    "    print('The %d test set label: '%(i),y_test[i])"
   ]
  },
  {
   "cell_type": "code",
   "execution_count": 3,
   "id": "9a19dd83",
   "metadata": {},
   "outputs": [
    {
     "name": "stdout",
     "output_type": "stream",
     "text": [
      "Model: \"sequential\"\n",
      "_________________________________________________________________\n",
      "Layer (type)                 Output Shape              Param #   \n",
      "=================================================================\n",
      "conv2d (Conv2D)              (None, 28, 28, 32)        320       \n",
      "_________________________________________________________________\n",
      "max_pooling2d (MaxPooling2D) (None, 14, 14, 32)        0         \n",
      "_________________________________________________________________\n",
      "conv2d_1 (Conv2D)            (None, 14, 14, 64)        18496     \n",
      "_________________________________________________________________\n",
      "max_pooling2d_1 (MaxPooling2 (None, 7, 7, 64)          0         \n",
      "_________________________________________________________________\n",
      "conv2d_2 (Conv2D)            (None, 7, 7, 128)         73856     \n",
      "_________________________________________________________________\n",
      "max_pooling2d_2 (MaxPooling2 (None, 3, 3, 128)         0         \n",
      "_________________________________________________________________\n",
      "flatten (Flatten)            (None, 1152)              0         \n",
      "_________________________________________________________________\n",
      "dense (Dense)                (None, 128)               147584    \n",
      "_________________________________________________________________\n",
      "dropout (Dropout)            (None, 128)               0         \n",
      "_________________________________________________________________\n",
      "dense_1 (Dense)              (None, 10)                1290      \n",
      "=================================================================\n",
      "Total params: 241,546\n",
      "Trainable params: 241,546\n",
      "Non-trainable params: 0\n",
      "_________________________________________________________________\n"
     ]
    }
   ],
   "source": [
    "#Creat a CNN layers\n",
    "Conv_layers = [\n",
    "    #First layer\n",
    "    layers.Conv2D(filters=32, kernel_size = [3,3], padding = 'same', input_shape = [28,28,1], activation = tf.nn.relu),\n",
    "    layers.MaxPool2D(pool_size=[2,2]),\n",
    "    \n",
    "    #Second layer\n",
    "    layers.Conv2D(filters=64, kernel_size = [3,3], padding = 'same', input_shape = [28,28,1], activation = tf.nn.relu),\n",
    "    layers.MaxPool2D(pool_size=[2,2]),\n",
    "    \n",
    "    #Third layer\n",
    "    layers.Conv2D(filters=128, kernel_size = [3,3], padding = 'same', input_shape = [28,28,1], activation = tf.nn.relu),\n",
    "    layers.MaxPool2D(pool_size=[2,2]),\n",
    "    \n",
    "    #fLatten the all parameters\n",
    "    layers.Flatten(),\n",
    "    \n",
    "    #Full connection layer with dropout 0.25.\n",
    "    layers.Dense(128, activation = tf.nn.relu),\n",
    "    layers.Dropout(0.25),\n",
    "    layers.Dense(10, activation = tf.nn.softmax)\n",
    "]\n",
    "\n",
    "#Put those layer in to the Sequential list.\n",
    "model = Sequential(Conv_layers)\n",
    "\n",
    "#Output a report of the CNN layer.\n",
    "model.summary()"
   ]
  },
  {
   "cell_type": "code",
   "execution_count": 4,
   "id": "fe9194c2",
   "metadata": {},
   "outputs": [
    {
     "name": "stdout",
     "output_type": "stream",
     "text": [
      "Epoch 1/10\n",
      "108/108 [==============================] - 38s 336ms/step - loss: 0.5296 - Accuracy: 0.8401 - val_loss: 0.1002 - val_Accuracy: 0.9688\n",
      "Epoch 2/10\n",
      "108/108 [==============================] - 36s 331ms/step - loss: 0.1049 - Accuracy: 0.9677 - val_loss: 0.0540 - val_Accuracy: 0.9847\n",
      "Epoch 3/10\n",
      "108/108 [==============================] - 35s 326ms/step - loss: 0.0720 - Accuracy: 0.9778 - val_loss: 0.0415 - val_Accuracy: 0.9872\n",
      "Epoch 4/10\n",
      "108/108 [==============================] - 33s 304ms/step - loss: 0.0556 - Accuracy: 0.9830 - val_loss: 0.0373 - val_Accuracy: 0.9890\n",
      "Epoch 5/10\n",
      "108/108 [==============================] - 33s 304ms/step - loss: 0.0448 - Accuracy: 0.9863 - val_loss: 0.0349 - val_Accuracy: 0.9905\n",
      "Epoch 6/10\n",
      "108/108 [==============================] - 33s 302ms/step - loss: 0.0385 - Accuracy: 0.9883 - val_loss: 0.0309 - val_Accuracy: 0.9913\n",
      "Epoch 7/10\n",
      "108/108 [==============================] - 33s 303ms/step - loss: 0.0316 - Accuracy: 0.9899 - val_loss: 0.0343 - val_Accuracy: 0.9903\n",
      "Epoch 8/10\n",
      "108/108 [==============================] - 32s 299ms/step - loss: 0.0283 - Accuracy: 0.9912 - val_loss: 0.0311 - val_Accuracy: 0.9905\n",
      "Epoch 9/10\n",
      "108/108 [==============================] - 36s 332ms/step - loss: 0.0266 - Accuracy: 0.9914 - val_loss: 0.0293 - val_Accuracy: 0.9922\n",
      "Epoch 10/10\n",
      "108/108 [==============================] - 33s 303ms/step - loss: 0.0216 - Accuracy: 0.9928 - val_loss: 0.0244 - val_Accuracy: 0.9932\n"
     ]
    }
   ],
   "source": [
    "#Training model\n",
    "\n",
    "#The optimizer is Adam\n",
    "#The loss function is categorical_crossentrop\n",
    "#The matricx information is accuracy\n",
    "model.compile(optimizer = tf.keras.optimizers.Adam(learning_rate = 1e-3),loss = 'categorical_crossentropy',metrics = ['Accuracy'])\n",
    "\n",
    "#Traning setting, define the epochs, batch_size. Save the hissory to a variable\n",
    "History = model.fit(x_train,y_train, epochs = 10, batch_size = 500,validation_split = 0.1)\n"
   ]
  },
  {
   "cell_type": "code",
   "execution_count": 5,
   "id": "f5924d2a",
   "metadata": {},
   "outputs": [
    {
     "data": {
      "image/png": "[encoded data removed]",
      "text/plain": [
       "<Figure size 576x576 with 2 Axes>"
      ]
     },
     "metadata": {
      "needs_background": "light"
     },
     "output_type": "display_data"
    }
   ],
   "source": [
    "#Plot the training history in a diagram\n",
    "\n",
    "#Plot the accuracy diagram\n",
    "plt.figure(figsize = (8,8))\n",
    "plt.subplot(1,2,1)\n",
    "plt.plot(History.history['Accuracy'], label = 'Train') \n",
    "plt.plot(History.history['val_Accuracy'], label = 'Validation')\n",
    "plt.title('The Training Accuracy History')\n",
    "plt.xlabel('Epochs')\n",
    "plt.ylabel('Accuracy')\n",
    "plt.legend(loc = 'lower right')\n",
    "\n",
    "#Plot the loss diagram\n",
    "plt.subplot(1,2,2)\n",
    "plt.plot(History.history['loss'], label = 'Train') \n",
    "plt.plot(History.history['val_loss'], label = 'Validation')\n",
    "plt.title('The Training Loss History')\n",
    "plt.xlabel('Epochs')\n",
    "plt.ylabel('Loss')\n",
    "plt.legend(loc = 'upper right')\n",
    "plt.show()"
   ]
  },
  {
   "cell_type": "code",
   "execution_count": 6,
   "id": "78ab1e09",
   "metadata": {},
   "outputs": [
    {
     "name": "stdout",
     "output_type": "stream",
     "text": [
      "10000/10000 - 12s - loss: 0.0221 - Accuracy: 0.9926\n",
      "The loss is:  0.02209681272506714\n",
      "The accuracy is : 0.9926000237464905\n"
     ]
    }
   ],
   "source": [
    "#Test\n",
    "Loss, accuracy = model.evaluate(x_test,y_test,batch_size=1,verbose=2)\n",
    "#print the results out\n",
    "print(\"The loss is: \", Loss)\n",
    "print(\"The accuracy is :\", accuracy)"
   ]
  },
  {
   "cell_type": "code",
   "execution_count": null,
   "id": "70d7cdd1",
   "metadata": {},
   "outputs": [],
   "source": []
  }
 ],
 "metadata": {
  "kernelspec": {
   "display_name": "Python 3",
   "language": "python",
   "name": "python3"
  },
  "language_info": {
   "codemirror_mode": {
    "name": "ipython",
    "version": 3
   },
   "file_extension": ".py",
   "mimetype": "text/x-python",
   "name": "python",
   "nbconvert_exporter": "python",
   "pygments_lexer": "ipython3",
   "version": "3.8.8"
  }
 },
 "nbformat": 4,
 "nbformat_minor": 5
}
